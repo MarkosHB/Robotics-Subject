{
 "cells": [
  {
   "cell_type": "markdown",
   "metadata": {},
   "source": [
    "# 6.1 Introduction to mapping\n",
    "\n",
    "In the previous chapter we studied different methods for localizing a robot equipped with a sensor able to take measurements to a number of landmarks with known positions, that is, the map $m$ of the environment was given before hand. Now we will review a number of techniques addressing the opposite problem: to build a map $m$ of the environment given a set of known robot poses $x$ and sensor measurements $z$, that is:\n",
    "\n",
    "$$p(m | z,x)$$\n",
    "\n",
    "Notice that:\n",
    "\n",
    "- $x$ is not a random variable here, but a know vector ($3\\times1$ in 2D).\n",
    "- since the robot pose $x$ is given, it is not necessary to consider the motion command $u$!\n",
    "- $z$ is a sample from a distribution with mean $h(x,m)$.\n",
    "\n",
    "There exist different types of maps, being the most used ones:\n",
    "<table>\n",
    "    <tr>\n",
    "        <td style=\"text-align: center; vertical-align: middle;\"><b>Landmarks based maps</b></td>\n",
    "        <td style=\"text-align: center; vertical-align: middle;\"><b>Occupancy grid maps</b></td>\n",
    "    </tr>\n",
    "    <tr>\n",
    "        <td style=\"text-align: center; vertical-align: middle;\">\n",
    "            <figure>\n",
    "              <img src=\"./images/map_landmarks.png\" />\n",
    "              <figcaption>Fig.1 - Landmarks based map of an office environment. In this case Landmarks are QR codes placed  next to doors.</figcaption>        \n",
    "            </figure>\n",
    "        </td>\n",
    "        <td style=\"text-align: center; vertical-align: middle;\">\n",
    "             <figure>\n",
    "              <img src=\"./images/map_occupancy_gridmap.png\"/>\n",
    "              <figcaption>Fig.2 - Example of an occupancy gridmap of a house. In the image, white pixels represent traversable space, black pixels stand for obstacles, and gray ones are unknown space.</figcaption>\n",
    "            </figure>\n",
    "        </td>\n",
    "    </tr>\n",
    "    <tr>\n",
    "        <td style=\"text-align: center; vertical-align: middle;\"><b>Topological maps</b></td>\n",
    "        <td style=\"text-align: center; vertical-align: middle;\"><b>Semantic maps</b></td>\n",
    "    </tr>\n",
    "    <tr>\n",
    "        <td style=\"text-align: center; vertical-align: middle;\">\n",
    "            <figure>\n",
    "              <img src=\"./images/map_topological.png\" width=\"250\"/>\n",
    "              <figcaption>Fig.3 - Example of a topological map of a house where nodes represent rooms and edges link connected rooms.</figcaption>\n",
    "            </figure>\n",
    "        </td>\n",
    "        <td style=\"text-align: center; vertical-align: middle;\">\n",
    "            <figure>\n",
    "              <img src=\"./images/map_semantic.png\" width=\"450\"/>\n",
    "              <figcaption>Fig.4 - Example of a semantic map of a bathroom where the objects within it are linked with meta-information about their category, size, utility, mobility, etc.</figcaption>\n",
    "            </figure>\n",
    "        </td>\n",
    "    </tr>\n",
    "</table>\n",
    "\n",
    "<br />\n",
    "\n",
    "Notice that both Landmarks based maps and occupancy grid maps are **geometric maps**. In the next section of this book we are going to take a look at how to build landmarks based maps relying on the Extended Kalman Filter (EKF)."
   ]
  },
  {
   "cell_type": "markdown",
   "metadata": {},
   "source": [
    "## <span style=\"color:green\">OPTIONAL</span>\n",
    "\n",
    "<span style=\"color:green\">Surf the internet looking for more general information about robot mapping. You can include additional definition, examples, images, videos,... anything you find interesting!</span>"
   ]
  },
  {
   "cell_type": "markdown",
   "metadata": {},
   "source": [
    "Your work here..."
   ]
  },
  {
   "cell_type": "markdown",
   "metadata": {},
   "source": [
    "<span style=\"color:green\">***END OF OPTIONAL PART***</span>"
   ]
  }
 ],
 "metadata": {
  "kernelspec": {
   "display_name": "Python 3 (ipykernel)",
   "language": "python",
   "name": "python3"
  },
  "language_info": {
   "codemirror_mode": {
    "name": "ipython",
    "version": 3
   },
   "file_extension": ".py",
   "mimetype": "text/x-python",
   "name": "python",
   "nbconvert_exporter": "python",
   "pygments_lexer": "ipython3",
   "version": "3.12.0"
  }
 },
 "nbformat": 4,
 "nbformat_minor": 4
}
