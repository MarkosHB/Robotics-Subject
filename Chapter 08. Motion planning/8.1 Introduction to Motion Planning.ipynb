{
 "cells": [
  {
   "cell_type": "markdown",
   "metadata": {},
   "source": [
    "# 8. Introduction to Motion Planning\n",
    "\n",
    "Given a robot able to build a map of its workspace as well as to localize itself in such a map, the next step for being operational is to provide the algorithms to reach a given destination, i.e. to plan how to reach a goal point and safely complete such navigation. In the real world this is complicated by various factors, e.g. the geometry of the robot, the variability of the obstacles, the non-holonomic constraints of the movement, etc. \n",
    "\n",
    "Two major concepts are related with this *planning and navigation* idea:\n",
    "\n",
    "- **Path planning**\n",
    "  - Pursues how to get from point A to point B.\n",
    "  - Factor like time and robot kinematics or cinematics are not considered.\n",
    "- **Motion planning**\n",
    "  - In charge of computing speed and turning commands to be sent to the robot (non-holonomic constraints apply) to follow a desired trajectory. \n",
    "  - Explicit consideration of time (considers a trajectory instead of a path). This is interesting, for example, where two robots are operating in the same space. \n",
    "  \n",
    "<figure style=\"text-align:center\">\n",
    "  <img src=\"images/motion-planning.png\" alt=\"\">\n",
    "  <figcaption>\n",
    "      Fig. 1: Main actors in the Motion planning concept.\n",
    "  </figcaption>\n",
    "</figure>\n",
    "\n",
    "They are different concepts, but sometimes both terms are used as synonymous. \n",
    "\n",
    "Usually, motion planning is further decomposed into two problems:\n",
    "\n",
    "- **Global navigation**: Which uses the available map to find a sequence of movements to reach the goal (it finds a sequence of waypoints between the start and the goal). It is also called **roadmap navigation** since it could be viewed as a kind of topological map that represents a set of paths (roads) between two points in the environment that the robot can travel on without collision.\n",
    "  - *Input*: the whole (known) map.\n",
    "  - *Techniques*: search method for global finding of a (optimal) path to the goal (e.g. A*).\n",
    "    - Bug algorithm.\n",
    "    - Visibility graph. \n",
    "    - Generalized Voronoi Diagram.\n",
    "    - Cell decomposition.\n",
    "    - Probabilistic Road Map.\n",
    "    \n",
    "- **Local reactive navigation**: Which uses sensor information to avoid the obstacles in the robot's path, even those which don't appear in the map, that is, it navigates between consecutive waypints while avoiding obstacles.\n",
    "  - Works at a high-frequency (i.e. real time).\n",
    "  - *Input*: sensor current observation.\n",
    "  - *Techniques*:\n",
    "    - Virtual Force Field (VFF).\n",
    "    - Vector Field Histogram (VFH).\n",
    "    - Dynamic window.\n",
    "    - PT-space (developed at **UMA**). \n",
    "\n",
    "\n",
    "<figure style=\"text-align:center\">\n",
    "  <img src=\"images/roadmap_planning.png\" alt=\"\">\n",
    "  <figcaption>\n",
    "      Fig. 2: Example of navigation using Roadmaps. The global navigation set a number of waypoints (red dots) between the start and the goal that are travesable by the robot (dotted red lines), while the local reactive navigation (dotted blue lines) goes from one waypoint to the next one avoiding obstacles.\n",
    "  </figcaption>\n",
    "</figure>"
   ]
  },
  {
   "cell_type": "markdown",
   "metadata": {},
   "source": [
    "## <span style=\"color:green\">OPTIONAL</span>\n",
    "\n",
    "<span style=\"color:green\">Surf the internet looking for more general information about Motion Planning. You can include additional definitions, examples, images, videos,... anything you find interesting!</span>"
   ]
  },
  {
   "cell_type": "markdown",
   "metadata": {},
   "source": [
    "Your work here..."
   ]
  },
  {
   "cell_type": "markdown",
   "metadata": {},
   "source": [
    "<span style=\"color:green\">***END OF OPTIONAL PART***</span>"
   ]
  }
 ],
 "metadata": {
  "kernelspec": {
   "display_name": "Python 3 (ipykernel)",
   "language": "python",
   "name": "python3"
  },
  "language_info": {
   "codemirror_mode": {
    "name": "ipython",
    "version": 3
   },
   "file_extension": ".py",
   "mimetype": "text/x-python",
   "name": "python",
   "nbconvert_exporter": "python",
   "pygments_lexer": "ipython3",
   "version": "3.10.7"
  }
 },
 "nbformat": 4,
 "nbformat_minor": 4
}
